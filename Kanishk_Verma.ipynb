{
  "nbformat": 4,
  "nbformat_minor": 0,
  "metadata": {
    "colab": {
      "provenance": [],
      "collapsed_sections": [],
      "toc_visible": true
    },
    "kernelspec": {
      "name": "python3",
      "display_name": "Python 3"
    },
    "language_info": {
      "name": "python"
    }
  },
  "cells": [
    {
      "cell_type": "code",
      "execution_count": null,
      "metadata": {
        "id": "3AT-ZEp73wfF"
      },
      "outputs": [],
      "source": [
        "import numpy as np\n",
        "import pandas as pd\n",
        "import sklearn\n"
      ]
    },
    {
      "cell_type": "code",
      "source": [
        "from sklearn.datasets import load_boston\n",
        "df = load_boston() "
      ],
      "metadata": {
        "id": "eX6-2Qn85n5O"
      },
      "execution_count": null,
      "outputs": []
    },
    {
      "cell_type": "code",
      "source": [
        "df.keys()                                    #RETURN ALL THE KEYS IN THE DATASET"
      ],
      "metadata": {
        "id": "81Tw0VN35p5H"
      },
      "execution_count": null,
      "outputs": []
    },
    {
      "cell_type": "code",
      "source": [
        "print(df.feature_names)                      #JUST TO CHECK THE COLUMN NAMES"
      ],
      "metadata": {
        "colab": {
          "base_uri": "https://localhost:8080/"
        },
        "id": "Ys8I6Ez36-0I",
        "outputId": "986ba903-dba8-4d39-fe40-2f8d3090fe00"
      },
      "execution_count": 49,
      "outputs": [
        {
          "output_type": "stream",
          "name": "stdout",
          "text": [
            "['CRIM' 'ZN' 'INDUS' 'CHAS' 'NOX' 'RM' 'AGE' 'DIS' 'RAD' 'TAX' 'PTRATIO'\n",
            " 'B' 'LSTAT']\n"
          ]
        }
      ]
    },
    {
      "cell_type": "code",
      "source": [
        "boston=pd.DataFrame(df.data,columns=df.feature_names)\n",
        "boston.head()"
      ],
      "metadata": {
        "id": "igIWobGI6OAf"
      },
      "execution_count": null,
      "outputs": []
    },
    {
      "cell_type": "markdown",
      "source": [
        "ADDING A NEW COLUMN CONTAINING TARGETTED PRICE VALUE IN DATASET\n"
      ],
      "metadata": {
        "id": "jnbxNW5t7UjR"
      }
    },
    {
      "cell_type": "code",
      "source": [
        "boston['TARG']=df.target\n",
        "boston.head()"
      ],
      "metadata": {
        "id": "6uS8rF8T7vh7"
      },
      "execution_count": null,
      "outputs": []
    },
    {
      "cell_type": "code",
      "source": [
        "boston.isnull().sum()                       #CHECKING FOR NULL VALUES IN THE DATASET "
      ],
      "metadata": {
        "id": "iEiL5MzG8P87"
      },
      "execution_count": null,
      "outputs": []
    },
    {
      "cell_type": "markdown",
      "source": [
        "SPLITTING DATASET INTO TRAINING AND TESTING DATASET\n"
      ],
      "metadata": {
        "id": "-XyM5k7f8bAF"
      }
    },
    {
      "cell_type": "code",
      "source": [
        "from sklearn.model_selection import train_test_split\n",
        "X=boston.drop('TARG',axis=1)\n",
        "Y=boston['TARG']\n",
        "\n",
        "X_train,X_test,Y_train,Y_test=train_test_split(X,Y,test_size=0.15, random_state=5)      #AFTER FEW TRIES TEST SIZE .15 AND RANDOM STATE 5 ARE GIVING BEST RESULTS\n",
        "print(X_train.shape)\n",
        "print(X_test.shape)\n",
        "print(Y_train.shape)\n",
        "print(Y_test.shape)"
      ],
      "metadata": {
        "colab": {
          "base_uri": "https://localhost:8080/"
        },
        "id": "UYl-9DvF8Uuo",
        "outputId": "33f61ee1-68ed-4d46-cf9e-71b5d48a24b1"
      },
      "execution_count": 47,
      "outputs": [
        {
          "output_type": "stream",
          "name": "stdout",
          "text": [
            "(430, 13)\n",
            "(76, 13)\n",
            "(430,)\n",
            "(76,)\n"
          ]
        }
      ]
    },
    {
      "cell_type": "markdown",
      "source": [
        "MAKING ML MODEL\n"
      ],
      "metadata": {
        "id": "bw7LLfIu-Y_p"
      }
    },
    {
      "cell_type": "code",
      "source": [
        "from sklearn.linear_model import LinearRegression\n",
        "from sklearn.metrics import mean_squared_error\n",
        "\n",
        "#FITTING/ADDING MODEL\n",
        "lin_model=LinearRegression()\n",
        "lin_model.fit(X_train,Y_train)\n",
        "\n",
        "#PREDICTION ON TRAINING SET\n",
        "y_train_predict=lin_model.predict(X_train)\n",
        "rmse=(np.sqrt(mean_squared_error(Y_train,y_train_predict)))\n",
        "\n",
        "#TRAINING SET RESULTS\n",
        "print(\"The model performance for training set \")\n",
        "print('RMSE is {}'.format(rmse))\n",
        "print(\"\\n\")\n",
        "\n",
        "#PREDICTION ON TESTING SET\n",
        "y_test_predict=lin_model.predict(X_test)\n",
        "rmse=(np.sqrt(mean_squared_error(Y_test,y_test_predict)))\n",
        "\n",
        "#TESTING SET RESULTS\n",
        "print(\"The model performance for testing set \")\n",
        "print(\"RMSE is {}\".format(rmse))\n"
      ],
      "metadata": {
        "colab": {
          "base_uri": "https://localhost:8080/"
        },
        "id": "beDjudkC96lB",
        "outputId": "8051126a-eb07-4091-d3cc-0f98e7077dde"
      },
      "execution_count": 48,
      "outputs": [
        {
          "output_type": "stream",
          "name": "stdout",
          "text": [
            "The model performance for training set \n",
            "RMSE is 4.710901797319796\n",
            "\n",
            "\n",
            "The model performance for testing set \n",
            "RMSE is 4.687543527902972\n"
          ]
        }
      ]
    },
    {
      "cell_type": "markdown",
      "source": [
        "|| SHOWING RESULTS ||\n"
      ],
      "metadata": {
        "id": "ycfoI6g7AFRW"
      }
    },
    {
      "cell_type": "markdown",
      "source": [],
      "metadata": {
        "id": "TWG-xyyX7oKE"
      }
    }
  ]
}